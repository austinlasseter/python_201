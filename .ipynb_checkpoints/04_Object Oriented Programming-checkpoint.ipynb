{
 "cells": [
  {
   "cell_type": "markdown",
   "metadata": {},
   "source": [
    "# Object Oriented Programming"
   ]
  },
  {
   "cell_type": "code",
   "execution_count": 1,
   "metadata": {
    "collapsed": true
   },
   "outputs": [],
   "source": [
    "# The following modules are used for plotting and generating data\n",
    "import matplotlib.pyplot as plt\n",
    "import seaborn as sns\n",
    "import numpy as np\n",
    "import pandas as pd\n",
    "%matplotlib inline"
   ]
  },
  {
   "cell_type": "markdown",
   "metadata": {},
   "source": [
    "<a id='classes-objects'></a>\n",
    "\n",
    "## Classes and Objects\n",
    "\n",
    "---\n",
    "\n",
    "In Python, everything is an \"object\" of some type. This is the basis of what is known as **object-oriented programming (OOP)**.\n",
    "\n",
    "A *class* is a type of object. You can think of a class definition as a sort of blueprint that specifies the construction of a new object when instantiated.\n",
    "\n",
    "> **Note:** Knowing how to define and use classes is essential for programming with Python at an intermediate or advanced level. We will cover the basics here, which will help you understand how concepts like distributions in `scipy.stats` or DataFrames in `pandas` work.\n"
   ]
  },
  {
   "cell_type": "markdown",
   "metadata": {},
   "source": [
    "## Welcome to `class`\n",
    "\n",
    "---\n",
    "\n",
    "Want to make ~~some~~ a bank?\n",
    "\n",
    "Think about a bank account...\n",
    "\n",
    "- a \"bank account\" stores a balance\n",
    "- you can do things with a \"bank account\"\n",
    "\n",
    "  - withdraw money\n",
    "  - deposit money\n",
    "  - close the account\n",
    "  \n",
    "*Translation into the world of object oriented programming (OOP):*\n",
    "\n",
    "- **object** = bank account... the generic \"thing\"\n",
    "- **attribute** = balance... \"data\" associated with the object\n",
    "- **methods** = withdraw/deposit/close... \"functions\" associated with the object\n",
    "  \n",
    "**It's often useful to sketch this out!**"
   ]
  },
  {
   "cell_type": "code",
   "execution_count": 2,
   "metadata": {
    "collapsed": true
   },
   "outputs": [],
   "source": [
    "class Account(object):\n",
    "    \n",
    "    def __init__(self):\n",
    "        self.balance = 0\n",
    "        \n",
    "    def deposit(self, value):\n",
    "        self.balance += value\n",
    "        return self.balance\n",
    "    \n",
    "    def withdraw(self, value):\n",
    "        if value > self.balance:\n",
    "            raise Exception('Insufficient funds!')\n",
    "            \n",
    "        self.balance -= value\n",
    "        return self.balance\n",
    "    \n",
    "    def close(self):\n",
    "        cash = self.balance\n",
    "        self.balance = 0.0\n",
    "        \n",
    "        return cash"
   ]
  },
  {
   "cell_type": "code",
   "execution_count": 3,
   "metadata": {},
   "outputs": [
    {
     "name": "stdout",
     "output_type": "stream",
     "text": [
      "My balance is now  100\n",
      "My balance is now  50\n",
      "You need more money!!\n"
     ]
    }
   ],
   "source": [
    "my_account = Account()\n",
    "\n",
    "my_account.deposit(100)\n",
    "print('My balance is now ', my_account.balance)\n",
    "my_account.withdraw(50)\n",
    "print('My balance is now ', my_account.balance)\n",
    "\n",
    "try:\n",
    "    my_account.withdraw(60)\n",
    "    print('My balance is now ', my_account.balance)\n",
    "except:\n",
    "    print('You need more money!!')"
   ]
  },
  {
   "cell_type": "markdown",
   "metadata": {},
   "source": [
    "Acknowledgement: This material is lifted directly from the OOP lecture at General Assembly.   \n",
    "    For the full course material, see the resources folder."
   ]
  },
  {
   "cell_type": "code",
   "execution_count": null,
   "metadata": {
    "collapsed": true
   },
   "outputs": [],
   "source": []
  }
 ],
 "metadata": {
  "kernelspec": {
   "display_name": "Python [conda env:anaconda3]",
   "language": "python",
   "name": "conda-env-anaconda3-py"
  },
  "language_info": {
   "codemirror_mode": {
    "name": "ipython",
    "version": 3
   },
   "file_extension": ".py",
   "mimetype": "text/x-python",
   "name": "python",
   "nbconvert_exporter": "python",
   "pygments_lexer": "ipython3",
   "version": "3.6.3"
  }
 },
 "nbformat": 4,
 "nbformat_minor": 2
}
