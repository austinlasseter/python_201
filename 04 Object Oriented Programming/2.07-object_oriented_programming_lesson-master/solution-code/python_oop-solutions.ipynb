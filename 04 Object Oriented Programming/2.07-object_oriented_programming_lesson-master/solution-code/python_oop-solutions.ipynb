{
 "cells": [
  {
   "cell_type": "markdown",
   "metadata": {},
   "source": [
    "<img src=\"http://imgur.com/1ZcRyrc.png\" style=\"float: left; margin: 20px; height: 55px\">\n",
    "\n",
    "# Object-Oriented Programming: Coding a Normal Distribution Class\n",
    "\n",
    "_Author: Justin Pounders (ATL)_\n",
    "\n",
    "---\n",
    "\n",
    "### Learning Objectives\n",
    "- Learn the fundamentals of object-oriented programming in Python\n",
    "- Review the solution to coefficients for multiple linear regression\n",
    "- Apply object-oriented programming concepts to build a normal distribution class by hand"
   ]
  },
  {
   "cell_type": "code",
   "execution_count": 154,
   "metadata": {
    "collapsed": true
   },
   "outputs": [],
   "source": [
    "# The following modules are used for plotting and generating data\n",
    "import matplotlib.pyplot as plt\n",
    "import seaborn as sns\n",
    "import scipy.stats as stats\n",
    "import pandas as pd\n",
    "%matplotlib inline"
   ]
  },
  {
   "cell_type": "code",
   "execution_count": 155,
   "metadata": {
    "collapsed": true
   },
   "outputs": [],
   "source": [
    "# These imports are needed by the class\n",
    "import numpy as np\n",
    "from scipy.special import erf"
   ]
  },
  {
   "cell_type": "markdown",
   "metadata": {},
   "source": [
    "<a id='classes-objects'></a>\n",
    "\n",
    "## Classes and Objects\n",
    "\n",
    "---\n",
    "\n",
    "In Python, everything is an \"object\" of some type. This is the basis of what is known as **object-oriented programming (OOP)**.\n",
    "\n",
    "A *class* is a type of object. You can think of a class definition as a sort of blueprint that specifies the construction of a new object when instantiated.\n",
    "\n",
    "> **Note:** Knowing how to define and use classes is essential for programming with Python at an intermediate or advanced level. We will cover the basics here, which will help you understand how concepts like distributions in `scipy.stats` or DataFrames in `pandas` work.\n"
   ]
  },
  {
   "cell_type": "markdown",
   "metadata": {},
   "source": [
    "## Welcome to `class`\n",
    "\n",
    "---\n",
    "\n",
    "Want to make ~~some~~ a bank?\n",
    "\n",
    "Think about a bank account...\n",
    "\n",
    "- a \"bank account\" stores a balance\n",
    "- you can do things with a \"bank account\"\n",
    "\n",
    "  - withdraw money\n",
    "  - deposit money\n",
    "  - close the account\n",
    "  \n",
    "*Translation into the world of object oriented programming (OOP):*\n",
    "\n",
    "- **object** = bank account... the generic \"thing\"\n",
    "- **attribute** = balance... \"data\" associated with the object\n",
    "- **methods** = withdraw/deposit/close... \"functions\" associated with the object\n",
    "  \n",
    "**It's often useful to sketch this out!**"
   ]
  },
  {
   "cell_type": "markdown",
   "metadata": {},
   "source": [
    "---\n",
    "\n",
    "Now let's do this in Python.  In python, objects are constructed using *classes* and are constructed using the `class` keyword."
   ]
  },
  {
   "cell_type": "code",
   "execution_count": 156,
   "metadata": {
    "collapsed": true
   },
   "outputs": [],
   "source": [
    "class Account(object):\n",
    "    \n",
    "    def __init__(self):\n",
    "        self.balance = 0\n",
    "        \n",
    "    def deposit(self, value):\n",
    "        self.balance += value\n",
    "        return self.balance\n",
    "    \n",
    "    def withdraw(self, value):\n",
    "        if value > self.balance:\n",
    "            raise Exception('Insufficient funds!')\n",
    "            \n",
    "        self.balance -= value\n",
    "        return self.balance\n",
    "    \n",
    "    def close(self):\n",
    "        cash = self.balance\n",
    "        self.balance = 0.0\n",
    "        \n",
    "        return cash"
   ]
  },
  {
   "cell_type": "code",
   "execution_count": 159,
   "metadata": {},
   "outputs": [
    {
     "name": "stdout",
     "output_type": "stream",
     "text": [
      "My balance is now  100\n",
      "My balance is now  50\n",
      "You need a more money!!\n"
     ]
    }
   ],
   "source": [
    "my_account = Account()\n",
    "\n",
    "my_account.deposit(100)\n",
    "print('My balance is now ', my_account.balance)\n",
    "my_account.withdraw(50)\n",
    "print('My balance is now ', my_account.balance)\n",
    "\n",
    "try:\n",
    "    my_account.withdraw(60)\n",
    "    print('My balance is now ', my_account.balance)\n",
    "except:\n",
    "    print('You need more money!!')"
   ]
  },
  {
   "cell_type": "markdown",
   "metadata": {},
   "source": [
    "> A `class` is a template or blueprint.  When you create (or *instantiate*) a concrete variable (like `my_account`) then you have an object."
   ]
  },
  {
   "cell_type": "markdown",
   "metadata": {},
   "source": [
    "**Check:** Creating classes...\n",
    "\n",
    "Next, let's recreate some of the functionality in `scipy.stats`.  We will create a Normal distribution object."
   ]
  },
  {
   "cell_type": "markdown",
   "metadata": {},
   "source": [
    "### The Shape of Normal\n",
    "\n",
    "Mathematically, the probability density function (pdf) for the normal (or Gaussian) distribution can be written as follows:\n",
    "\n",
    "$$\n",
    "f(x | \\mu, \\sigma^2) = \\frac{1}{\\sqrt{2\\pi\\sigma^2}} e^{-\\frac{(x-\\mu)^2}{2\\sigma^2}}.\n",
    "$$\n",
    "\n",
    "The cumulative distribution function (cdf), on the other hand, is\n",
    "\n",
    "$$\n",
    "F( x | \\mu, \\sigma^2) = \\frac{1}{2} \\left[ 1 + \\text{erf}\\left(\\frac{x-\\mu}{\\sigma\\sqrt{2}}\\right) \\right]\n",
    "$$\n",
    "\n",
    "where $\\text{erf}(\\cdot)$ is the \"error function.\"  This error function is technically called a \"special function\" (yes, really), and for today's purposes we will calculate its value using the `erf` function imported from `scipy.stats` above."
   ]
  },
  {
   "cell_type": "markdown",
   "metadata": {},
   "source": [
    "Let's lay out some requirements:\n",
    "\n",
    "- Class name will be `Gaussian`\n",
    "- Attributes should include\n",
    "\n",
    "  - `mu`, the mean\n",
    "  - `sigma`, the standard deviation\n",
    "  - `is_fit`, boolean indicating if mean/standard deviation were given or calculated\n",
    "  \n",
    "- Methods should include\n",
    "\n",
    "  - `pdf`\n",
    "  - `cdf`\n",
    "  - `plot`\n",
    "  - `fit`\n",
    "  - `likelihood`"
   ]
  },
  {
   "cell_type": "markdown",
   "metadata": {},
   "source": [
    "### Version 1\n",
    "\n",
    "Let's start by implementing `pdf`, `cdf` and `plot`."
   ]
  },
  {
   "cell_type": "code",
   "execution_count": 121,
   "metadata": {},
   "outputs": [],
   "source": [
    "class Gaussian(object):\n",
    "    \n",
    "    def __init__(self, mu=0, sigma=1):\n",
    "        self.mu = mu\n",
    "        self.sigma = sigma\n",
    "        self.is_fit = False\n",
    "        \n",
    "    def pdf(self, x):\n",
    "        c = 1/np.sqrt(2*np.pi*self.sigma**2)\n",
    "        e = - (x -self.mu)**2/(2*self.sigma**2)\n",
    "        return c*np.exp(e)\n",
    "    \n",
    "    def cdf(self, x):\n",
    "        return 0.5*(1 + erf((x-self.mu)/(self.sigma*np.sqrt(2))))\n",
    "    \n",
    "    def plot(self, x_min, x_max, func='pdf'):\n",
    "        x = np.linspace(x_min, x_max, 501)\n",
    "        \n",
    "        \n",
    "        fig, ax = plt.subplots()\n",
    "        if func=='pdf':\n",
    "            ax.plot(x, self.pdf(x))\n",
    "        elif func=='cdf':\n",
    "            ax.plot(x, self.cdf(x))\n",
    "        else:\n",
    "            raise Exception('Unknown function to plot: '+func)\n",
    "            \n",
    "        return fig"
   ]
  },
  {
   "cell_type": "code",
   "execution_count": 122,
   "metadata": {},
   "outputs": [
    {
     "data": {
      "image/png": "[encoded data removed]",
      "text/plain": [
       "<matplotlib.figure.Figure at 0x1a1c2b7828>"
      ]
     },
     "metadata": {},
     "output_type": "display_data"
    }
   ],
   "source": [
    "norm = Gaussian(5,2)\n",
    "fig = norm.plot(0,10)"
   ]
  },
  {
   "cell_type": "code",
   "execution_count": 127,
   "metadata": {
    "collapsed": true
   },
   "outputs": [],
   "source": [
    "mu = 105\n",
    "sigma = 20\n",
    "test_norm = stats.norm(mu, sigma)\n",
    "\n",
    "samples = test_norm.rvs(1000)\n",
    "df = pd.DataFrame({'samples':samples})"
   ]
  },
  {
   "cell_type": "markdown",
   "metadata": {},
   "source": [
    "### Version 2\n",
    "\n",
    "Now let's implement `fit`.  You can fit a normal distribution to a set of data by calculating the mean and standard deviation of the data, then assigning these values to a normal distribution."
   ]
  },
  {
   "cell_type": "code",
   "execution_count": 167,
   "metadata": {
    "collapsed": true
   },
   "outputs": [],
   "source": [
    "class Gaussian(object):\n",
    "    \n",
    "    def __init__(self, mu=0, sigma=1):\n",
    "        self.mu = mu\n",
    "        self.sigma = sigma\n",
    "        self.is_fit = False\n",
    "        \n",
    "    def pdf(self, x):\n",
    "        c = 1/np.sqrt(2*np.pi*self.sigma**2)\n",
    "        e = - (x -self.mu)**2/(2*self.sigma**2)\n",
    "        return c*np.exp(e)\n",
    "    \n",
    "    def cdf(self, x):\n",
    "        return 0.5*(1 + erf((x-self.mu)/(self.sigma*np.sqrt(2))))\n",
    "    \n",
    "    def plot(self, x_min, x_max, func='pdf'):\n",
    "        x = np.linspace(x_min, x_max, 501)\n",
    "        \n",
    "        \n",
    "        fig, ax = plt.subplots()\n",
    "        if func=='pdf':\n",
    "            ax.plot(x, self.pdf(x))\n",
    "        elif func=='cdf':\n",
    "            ax.plot(x, self.cdf(x))\n",
    "        else:\n",
    "            raise Exception('Unknown function to plot: '+func)\n",
    "            \n",
    "        return fig\n",
    "            \n",
    "    def fit(self, data):\n",
    "        self.mu = np.mean(data)\n",
    "        self.sigma = np.std(data, ddof=1)\n",
    "        return self"
   ]
  },
  {
   "cell_type": "code",
   "execution_count": 168,
   "metadata": {},
   "outputs": [
    {
     "data": {
      "text/plain": [
       "array([<matplotlib.axes._subplots.AxesSubplot object at 0x10ad1e0f0>], dtype=object)"
      ]
     },
     "execution_count": 168,
     "metadata": {},
     "output_type": "execute_result"
    },
    {
     "data": {
      "image/png": "[encoded data removed]",
      "text/plain": [
       "<matplotlib.figure.Figure at 0x1a1c4a55c0>"
      ]
     },
     "metadata": {},
     "output_type": "display_data"
    }
   ],
   "source": [
    "norm.fit(df.samples.values)\n",
    "fig = norm.plot(df.samples.min(), df.samples.max())\n",
    "df.hist(ax=fig.get_axes(), normed=True, bins=20)"
   ]
  },
  {
   "cell_type": "markdown",
   "metadata": {},
   "source": [
    "### Version 3\n",
    "\n",
    "Now let's add a `likelihood`.  In probability, the likelihood function tells us how likely it is that our data came from a given distribution.\n",
    "\n",
    "For example, let's say that we have some normal distribution with fixed mean and standard deviation: $f(x | \\mu, \\sigma^2)$.\n",
    "\n",
    "Now let's say we have a set of data, $x_1, x_2, x_3, ... x_N$ that we think are sampled from our normal distribution.\n",
    "\n",
    "The likelihood function tells how well our data fit the distribution; it is calculated as\n",
    "\n",
    "$$\n",
    "\\text{likelihood} = \\prod_{i=1}^N f(x_i | \\mu, \\sigma^2)\n",
    "$$\n",
    "\n",
    "*These numbers can get really small!*  It is therefore very common to calculate the \"log likelihood:\"\n",
    "\n",
    "$$\n",
    "\\text{log(likelihood)} = \\sum_{i=1}^N \\ln\\left[f(x_i | \\mu, \\sigma^2)\\right]\n",
    "$$\n"
   ]
  },
  {
   "cell_type": "code",
   "execution_count": null,
   "metadata": {
    "collapsed": true
   },
   "outputs": [],
   "source": [
    "class Gaussian(object):\n",
    "    \n",
    "    def __init__(self, mu=0, sigma=1):\n",
    "        self.mu = mu\n",
    "        self.sigma = sigma\n",
    "        self.is_fit = False\n",
    "        \n",
    "    def pdf(self, x):\n",
    "        c = 1/np.sqrt(2*np.pi*self.sigma**2)\n",
    "        e = - (x -self.mu)**2/(2*self.sigma**2)\n",
    "        return c*np.exp(e)\n",
    "    \n",
    "    def cdf(self, x):\n",
    "        return 0.5*(1 + erf((x-self.mu)/(self.sigma*np.sqrt(2))))\n",
    "    \n",
    "    def plot(self, x_min, x_max, func='pdf'):\n",
    "        x = np.linspace(x_min, x_max, 501)\n",
    "        \n",
    "        \n",
    "        fig, ax = plt.subplots()\n",
    "        if func=='pdf':\n",
    "            ax.plot(x, self.pdf(x))\n",
    "        elif func=='cdf':\n",
    "            ax.plot(x, self.cdf(x))\n",
    "        else:\n",
    "            raise Exception('Unknown function to plot: '+func)\n",
    "            \n",
    "        return fig\n",
    "            \n",
    "    def fit(self, data):\n",
    "        self.mu = np.mean(data)\n",
    "        self.sigma = np.std(data)\n",
    "        return self\n",
    "    \n",
    "    def log_likelihood(self, data):\n",
    "        return np.sum(np.log(self.pdf(data)))"
   ]
  },
  {
   "cell_type": "code",
   "execution_count": 160,
   "metadata": {},
   "outputs": [
    {
     "data": {
      "text/plain": [
       "0.0019259064439112084"
      ]
     },
     "execution_count": 160,
     "metadata": {},
     "output_type": "execute_result"
    }
   ],
   "source": [
    "l1 = norm.likelihood(df.samples.values)\n",
    "l2 = Gaussian(107,20).likelihood(df.samples.values)\n",
    "np.exp(l2-l1)"
   ]
  },
  {
   "cell_type": "markdown",
   "metadata": {},
   "source": [
    "## Conclusion\n",
    "\n",
    "---\n",
    "\n",
    "We have seen how to define classes and instantiated objects with python.  This lesson only scrathes the surface of what is *possible*, but it also covers 60-80% of your actual use cases.\n",
    "\n",
    "For more information, check out [Chapter 4](http://anandology.com/python-practice-book/object_oriented_programming.html) in the _Python Practice Book_."
   ]
  }
 ],
 "metadata": {
  "kernelspec": {
   "display_name": "Python 3",
   "language": "python",
   "name": "python3"
  },
  "language_info": {
   "codemirror_mode": {
    "name": "ipython",
    "version": 3
   },
   "file_extension": ".py",
   "mimetype": "text/x-python",
   "name": "python",
   "nbconvert_exporter": "python",
   "pygments_lexer": "ipython3",
   "version": "3.6.3"
  }
 },
 "nbformat": 4,
 "nbformat_minor": 2
}
