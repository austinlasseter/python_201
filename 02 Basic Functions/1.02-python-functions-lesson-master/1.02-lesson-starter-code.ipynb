{
 "cells": [
  {
   "cell_type": "markdown",
   "metadata": {},
   "source": [
    "# ![](https://ga-dash.s3.amazonaws.com/production/assets/logo-9f88ae6c9c3871690e33280fcf557f33.png) Lesson 1.02 | Functions\n",
    "\n",
    "\n",
    "### LEARNING OBJECTIVES\n",
    "*After this lesson, you will be able to:*\n",
    "- Review basic programming concepts (control flow, iteration, datatypes)\n",
    "- Create functions\n",
    "- Introduce `NumPy`\n",
    "\n",
    "---\n",
    "\n",
    "### Opening and Review\n",
    "\n",
    "This morning and through the pre-work, we've gone over quite a bit of Python.\n",
    "\n",
    "- Integers, floats, strings\n",
    "- Arithmetic operators, string operators\n",
    "- Variable assignment\n",
    "- Lists and dictionaries\n",
    "- `if`, `elif`, `else`, `for`, `while`\n",
    "\n",
    "We want to use control flow, iteration, etc. as building blocks to build up to something far more powerful. This is where **functions** come into play."
   ]
  },
  {
   "cell_type": "code",
   "execution_count": null,
   "metadata": {
    "collapsed": true
   },
   "outputs": [],
   "source": []
  },
  {
   "cell_type": "markdown",
   "metadata": {},
   "source": [
    "### Functions\n",
    "\n",
    "With functions, we can use what we've learned before to scale up immensely.\n",
    "\n",
    "---\n",
    "\n",
    "From the prework (and perhaps what you've done before DSI), remember that functions:\n",
    "- start with `def`, followed by the name of the function.\n",
    "- take inputs (or arguments).\n",
    "- return outputs.\n",
    "- use `return` instead of `print`.\n",
    "- are used frequently to make coding more efficient.\n",
    "\n",
    "One of my favorite novels - Ray Bradbury's *Fahrenheit 451* - has a quote that is appropriate here: \"We begin by beginning, I guess.\""
   ]
  },
  {
   "cell_type": "markdown",
   "metadata": {},
   "source": [
    "**Activity 1.01:** Let's write a function together. In the cell below, I want to write a function called `addition()` that takes in two numbers, $a$ and $b$, adds them together, and returns their sum."
   ]
  },
  {
   "cell_type": "code",
   "execution_count": null,
   "metadata": {
    "collapsed": true
   },
   "outputs": [],
   "source": []
  },
  {
   "cell_type": "markdown",
   "metadata": {},
   "source": [
    "<details><summary> **Question 1**\n",
    "</summary>\n",
    "```\n",
    "Suppose we wanted to test whether our function could properly add 3 and 5. What code would we need to run to do that?\n",
    "```\n",
    "<details><summary> **Answer 1**\n",
    "</summary>\n",
    "```\n",
    "addition(3,5)\n",
    "addition(5,3)\n",
    "```\n",
    "</details>\n",
    "</details>"
   ]
  },
  {
   "cell_type": "markdown",
   "metadata": {},
   "source": [
    "When working with functions, we really only care about the **structure** of the function. For example, we can write a function that does the exact same thing, but with different arguments and a different name.\n",
    "\n",
    "Take a minute and practice that now on your own by creating a function that still adds two numbers and returns their sum, but that has a different name and different arguments."
   ]
  },
  {
   "cell_type": "code",
   "execution_count": null,
   "metadata": {
    "collapsed": true
   },
   "outputs": [],
   "source": []
  },
  {
   "cell_type": "markdown",
   "metadata": {},
   "source": [
    "<details><summary> **Question 2**\n",
    "</summary>\n",
    "```\n",
    "If the names of functions or arguments don't affect functionality, are there best practices with how we name functions and arguments?\n",
    "```\n",
    "<details><summary> **Answer 2**\n",
    "</summary>\n",
    "```\n",
    "- There's no official standard across all of programming. However, you should use what makes sense!\n",
    "- As you build projects, you may have hundreds of functions running. Keeping the functions and their arguments straight is important... so pick names that are memorable.\n",
    "- If there is a standard practice at your office or in your field, use that. When collaborating on projects, it's important to be consistent.\n",
    "- Use \"\"\"docstrings\"\"\" and #comments to your advantage (and the advantage of your teammates)!\n",
    "```\n",
    "</details>\n",
    "</details>"
   ]
  },
  {
   "cell_type": "code",
   "execution_count": null,
   "metadata": {
    "collapsed": true
   },
   "outputs": [],
   "source": []
  },
  {
   "cell_type": "markdown",
   "metadata": {
    "collapsed": true
   },
   "source": [
    "In the function we wrote above, we saved `result` as a variable, meaning this is stored in our computer and occupies some memory. As we work with larger data sets and more complicated functions, we might run into issues with memory. While it's not a major issue now, we'll often want to find ways to use less memory.\n",
    "\n",
    "**Activity 1.02:** Can we write the `addition()` function without saving a `result` variable?"
   ]
  },
  {
   "cell_type": "code",
   "execution_count": null,
   "metadata": {
    "collapsed": true
   },
   "outputs": [],
   "source": []
  },
  {
   "cell_type": "markdown",
   "metadata": {},
   "source": [
    "**Activity 1.03:** Given how we've written `addition()` so far, let's try to break it. \n",
    "- By \"break the function,\" I mean that you might get an error or something unexpected.\n",
    "\n",
    "Take two minutes and, by only changing the inputs, try to break the function."
   ]
  },
  {
   "cell_type": "code",
   "execution_count": null,
   "metadata": {
    "collapsed": true
   },
   "outputs": [],
   "source": []
  },
  {
   "cell_type": "markdown",
   "metadata": {},
   "source": [
    "**Activity 1.04:** Now that we've broken our `addition()` function, let's try to avoid some of those issues."
   ]
  },
  {
   "cell_type": "code",
   "execution_count": null,
   "metadata": {
    "collapsed": true
   },
   "outputs": [],
   "source": []
  },
  {
   "cell_type": "markdown",
   "metadata": {},
   "source": [
    "<details><summary> **Question 3**\n",
    "</summary>\n",
    "```\n",
    "When you get an error, what should you do?\n",
    "```\n",
    "<details><summary> **Answer 3**\n",
    "</summary>\n",
    "```\n",
    "- Search Google or StackOverflow for the error.\n",
    "- Check with your peers.\n",
    "- \"If you don't know how to say it, say something else!\"\n",
    "- Reach out to your instructor.\n",
    "```\n",
    "</details>\n",
    "</details>"
   ]
  },
  {
   "cell_type": "markdown",
   "metadata": {},
   "source": [
    "**Activity 1.05:** Let's create a new function called `addition_list()` where the input is a list and the output is the sum of the numbers in that list.\n",
    "\n",
    "Take five minutes and write this function. Be sure to test the output, try to break it, and work to fix what you broke. You're welcome to work by yourself or with a partner if you'd like!\n",
    "\n",
    "We'll share a response from each market in five minutes."
   ]
  },
  {
   "cell_type": "code",
   "execution_count": null,
   "metadata": {
    "collapsed": true
   },
   "outputs": [],
   "source": []
  },
  {
   "cell_type": "markdown",
   "metadata": {},
   "source": [
    "**Activity 1.06:** Let's create a new function called `stdev()` where the input is a list and the output is $s$, the standard deviation of that list. (While we could use libraries or base Python to do some of the heavy lifting here, let's only use what we've learned thus far. We'll have an opportunity to use packages later!)\n",
    "\n",
    "$$s = \\sqrt{\\frac{1}{n-1}\\sum_{i=1}^n(x_i - \\bar{x})^2}$$\n",
    "\n",
    "When converting this from a formula to a function, it'll be helpful for us to write out what we should do, step by step."
   ]
  },
  {
   "cell_type": "markdown",
   "metadata": {},
   "source": [
    "<details><summary> **Question 4**\n",
    "</summary>\n",
    "```\n",
    "Step by step, how do we calculate the standard deviation of a list of numbers?\n",
    "```\n",
    "<details><summary> **Answer 4**\n",
    "</summary>\n",
    "```\n",
    "1. Find the mean of the list.\n",
    "2. Iterate over the list, subtracting the mean from each observation.\n",
    "3. Square each result from 2.\n",
    "4. Sum each result from 3.\n",
    "5. Calculate n-1, where n is the total number of observations in the original list.\n",
    "6. Divide the result from 4 by the result from 5.\n",
    "7. Take the square root of the result from 6.\n",
    "```\n",
    "</details>\n",
    "</details>"
   ]
  },
  {
   "cell_type": "markdown",
   "metadata": {},
   "source": [
    "Take seven minutes and, in a small group, write the `stdev()` function. Once you've written the function, spend any remaining time testing and debugging it."
   ]
  },
  {
   "cell_type": "code",
   "execution_count": null,
   "metadata": {
    "collapsed": true
   },
   "outputs": [],
   "source": []
  },
  {
   "cell_type": "markdown",
   "metadata": {},
   "source": [
    "**Activity 1.07:** Let's create a new function called `summary_stats()` where the input is a list and the output is the mean, median, range, and standard deviation of that list.\n",
    "\n",
    "We'll use a Python package called `NumPy` for some of our calculations here. **NumPy** stands for **Num**erical **Py**thon and will be crucial throughout the course. We'll have a deep-dive on that this coming Monday, but we can use a few commands now.\n",
    "- Mean: `np.mean(list)`\n",
    "- Median: `np.median(list)`\n",
    "- Maximum: `np.max(list)`\n",
    "- Minimum: `np.min(list)`"
   ]
  },
  {
   "cell_type": "code",
   "execution_count": null,
   "metadata": {
    "collapsed": true
   },
   "outputs": [],
   "source": []
  },
  {
   "cell_type": "markdown",
   "metadata": {},
   "source": [
    "We're not limited to using functions independent of one another! Part of the beauty of using functions is that they can work together. This will allow us to scale up very, very quickly."
   ]
  },
  {
   "cell_type": "markdown",
   "metadata": {},
   "source": [
    "**Activity 1.08:** We're going to estimate the value of $\\pi$ by generating random numbers!\n",
    "\n",
    "---\n",
    "\n",
    "We'll write a function called `pi_estimation()` that takes one input, the number of simulations $n$, and outputs our estimate of the numerical constant $\\pi$. [This visual](https://en.wikipedia.org/wiki/Monte_Carlo_method#/media/File:Pi_30K.gif) may be helpful, although our approach will be *slightly* different.\n",
    "\n",
    "Before coding this, let's look at [some documentation for generating random numbers](https://docs.scipy.org/doc/numpy-1.13.0/reference/generated/numpy.random.uniform.html)."
   ]
  },
  {
   "cell_type": "code",
   "execution_count": null,
   "metadata": {
    "collapsed": true
   },
   "outputs": [],
   "source": []
  },
  {
   "cell_type": "markdown",
   "metadata": {},
   "source": [
    "### Wrap-Up\n",
    "\n",
    "Let's think back to how we started thinking about functions.\n",
    "\n",
    "---\n",
    "\n",
    "Some best practices with functions (and programming in general):\n",
    "- Write comments.\n",
    "- Start small. Rather than attempting to write the entire function at one time, think logically about what you need to do and write each step out. Check your code after each step to make sure what you believe is happening is actually happening!\n",
    "- Start by getting the answer, then try to get that answer more quickly.\n",
    "- Before production, try to break it. Put in positive numbers, negative numbers, 0, strings, dictionaries, lists, blanks - see what breaks and how you can fix it.\n",
    "- As you work with more complicated functions, you might find that it often makes sense to write the body (inside) of the function first, *then* define the function and its arguments. Trying to foresee every argument and input you need before typing can be difficult.\n",
    "- **Avoid deleting your code if you can - always. Comment it out, save it in a different file, move it to a different cell if you have to, but try to never delete a fragment of code unless it's 100% worthless and you've checked with your friends and it's been a decade since you touched that fragment.**\n",
    "![](https://s3-us-west-2.amazonaws.com/superdeluxe.com/dankland/generators/160612583-1500350189682.jpeg)\n",
    "\n",
    "---\n",
    "\n",
    "#### Resources\n",
    "- [A Primer on Using Monte Carlo Simulations to Estimate Pi](http://mathfaculty.fullerton.edu/mathews/n2003/montecarlopimod.html)"
   ]
  }
 ],
 "metadata": {
  "kernelspec": {
   "display_name": "Python 3",
   "language": "python",
   "name": "python3"
  },
  "language_info": {
   "codemirror_mode": {
    "name": "ipython",
    "version": 3
   },
   "file_extension": ".py",
   "mimetype": "text/x-python",
   "name": "python",
   "nbconvert_exporter": "python",
   "pygments_lexer": "ipython3",
   "version": "3.5.4"
  }
 },
 "nbformat": 4,
 "nbformat_minor": 2
}
