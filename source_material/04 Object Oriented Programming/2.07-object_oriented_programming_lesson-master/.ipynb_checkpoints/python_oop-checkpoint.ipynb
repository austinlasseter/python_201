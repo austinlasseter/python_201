{
 "cells": [
  {
   "cell_type": "markdown",
   "metadata": {},
   "source": [
    "<img src=\"http://imgur.com/1ZcRyrc.png\" style=\"float: left; margin: 20px; height: 55px\">\n",
    "\n",
    "# Object-Oriented Programming: Coding a Normal Distribution Class\n",
    "\n",
    "_Author: Justin Pounders (ATL)_\n",
    "\n",
    "---\n",
    "\n",
    "### Learning Objectives\n",
    "- Learn the fundamentals of object-oriented programming in Python\n",
    "- Apply object-oriented programming concepts to build a normal distribution class by hand"
   ]
  },
  {
   "cell_type": "code",
   "execution_count": null,
   "metadata": {
    "collapsed": true
   },
   "outputs": [],
   "source": [
    "# The following modules are used for plotting and generating data\n",
    "import matplotlib.pyplot as plt\n",
    "import seaborn as sns\n",
    "import scipy.stats as stats\n",
    "import pandas as pd\n",
    "%matplotlib inline"
   ]
  },
  {
   "cell_type": "code",
   "execution_count": null,
   "metadata": {
    "collapsed": true
   },
   "outputs": [],
   "source": [
    "# These imports are needed by the class\n",
    "import numpy as np\n",
    "from scipy.special import erf"
   ]
  },
  {
   "cell_type": "markdown",
   "metadata": {},
   "source": [
    "<a id='classes-objects'></a>\n",
    "\n",
    "## Classes and Objects\n",
    "\n",
    "---\n",
    "\n",
    "In Python, everything is an \"object\" of some type. This is the basis of what is known as **object-oriented programming (OOP)**.\n",
    "\n",
    "A *class* is a type of object. You can think of a class definition as a sort of blueprint that specifies the construction of a new object when instantiated.\n",
    "\n",
    "> **Note:** Knowing how to define and use classes is essential for programming with Python at an intermediate or advanced level. We will cover the basics here, which will help you understand how concepts like distributions in `scipy.stats` or DataFrames in `pandas` work.\n"
   ]
  },
  {
   "cell_type": "markdown",
   "metadata": {},
   "source": [
    "## Welcome to `class`\n",
    "\n",
    "---\n",
    "\n",
    "Want to make ~~some~~ a bank?\n",
    "\n",
    "Think about a bank account...\n",
    "\n",
    "- a \"bank account\" stores a balance\n",
    "- you can do things with a \"bank account\"\n",
    "\n",
    "  - withdraw money\n",
    "  - deposit money\n",
    "  - close the account\n",
    "  \n",
    "*Translation into the world of object oriented programming (OOP):*\n",
    "\n",
    "- **object** = bank account... the generic \"thing\"\n",
    "- **attribute** = balance... \"data\" associated with the object\n",
    "- **methods** = withdraw/deposit/close... \"functions\" associated with the object\n",
    "  \n",
    "**It's often useful to sketch this out!**"
   ]
  },
  {
   "cell_type": "markdown",
   "metadata": {},
   "source": [
    "---\n",
    "\n",
    "Now let's do this in Python.  In python, objects are constructed using *classes* and are constructed using the `class` keyword."
   ]
  },
  {
   "cell_type": "code",
   "execution_count": null,
   "metadata": {
    "collapsed": true
   },
   "outputs": [],
   "source": [
    "# Let's make an account"
   ]
  },
  {
   "cell_type": "code",
   "execution_count": null,
   "metadata": {
    "collapsed": true
   },
   "outputs": [],
   "source": [
    "# Test your account here"
   ]
  },
  {
   "cell_type": "markdown",
   "metadata": {},
   "source": [
    "> A `class` is a template or blueprint.  When you create (or *instantiate*) a concrete variable (like `my_account`) then you have an object."
   ]
  },
  {
   "cell_type": "markdown",
   "metadata": {},
   "source": [
    "**Check:** Creating classes...\n",
    "\n",
    "Next, let's recreate some of the functionality in `scipy.stats`.  We will create a Normal distribution object."
   ]
  },
  {
   "cell_type": "markdown",
   "metadata": {},
   "source": [
    "### The Shape of Normal\n",
    "\n",
    "Mathematically, the probability density function (pdf) for the normal (or Gaussian) distribution can be written as follows:\n",
    "\n",
    "$$\n",
    "f(x | \\mu, \\sigma^2) = \\frac{1}{\\sqrt{2\\pi\\sigma^2}} e^{-\\frac{(x-\\mu)^2}{2\\sigma^2}}.\n",
    "$$\n",
    "\n",
    "The cumulative distribution function (cdf), on the other hand, is\n",
    "\n",
    "$$\n",
    "F( x | \\mu, \\sigma^2) = \\frac{1}{2} \\left[ 1 + \\text{erf}\\left(\\frac{x-\\mu}{\\sigma\\sqrt{2}}\\right) \\right]\n",
    "$$\n",
    "\n",
    "where $\\text{erf}(\\cdot)$ is the \"error function.\"  This error function is technically called a \"special function\" (yes, really), and for today's purposes we will calculate its value using the `erf` function imported from `scipy.stats` above."
   ]
  },
  {
   "cell_type": "markdown",
   "metadata": {},
   "source": [
    "Let's lay out some requirements:\n",
    "\n",
    "- Class name will be `Gaussian`\n",
    "- Attributes should include\n",
    "\n",
    "  - `mu`, the mean\n",
    "  - `sigma`, the standard deviation\n",
    "  - `is_fit`, boolean indicating if mean/standard deviation were given or calculated\n",
    "  \n",
    "- Methods should include\n",
    "\n",
    "  - `pdf`\n",
    "  - `cdf`\n",
    "  - `plot`\n",
    "  - `fit`\n",
    "  - `likelihood`"
   ]
  },
  {
   "cell_type": "markdown",
   "metadata": {},
   "source": [
    "### Version 1\n",
    "\n",
    "Let's start by implementing `pdf`, `cdf` and `plot`."
   ]
  },
  {
   "cell_type": "code",
   "execution_count": null,
   "metadata": {
    "collapsed": true
   },
   "outputs": [],
   "source": [
    "# Insert Gaussian here"
   ]
  },
  {
   "cell_type": "code",
   "execution_count": null,
   "metadata": {
    "collapsed": true
   },
   "outputs": [],
   "source": [
    "# Test the Gaussian"
   ]
  },
  {
   "cell_type": "code",
   "execution_count": null,
   "metadata": {
    "collapsed": true
   },
   "outputs": [],
   "source": [
    "# Test it more..."
   ]
  },
  {
   "cell_type": "markdown",
   "metadata": {},
   "source": [
    "### Version 2\n",
    "\n",
    "Now let's implement `fit`.  You can fit a normal distribution to a set of data by calculating the mean and standard deviation of the data, then assigning these values to a normal distribution."
   ]
  },
  {
   "cell_type": "code",
   "execution_count": null,
   "metadata": {
    "collapsed": true
   },
   "outputs": [],
   "source": [
    "# Gaussian v2"
   ]
  },
  {
   "cell_type": "code",
   "execution_count": null,
   "metadata": {
    "collapsed": true
   },
   "outputs": [],
   "source": [
    "# Test the `fit` method"
   ]
  },
  {
   "cell_type": "markdown",
   "metadata": {},
   "source": [
    "### Version 3\n",
    "\n",
    "Now let's add a `likelihood`.  In probability, the likelihood function tells us how likely it is that our data came from a given distribution.\n",
    "\n",
    "For example, let's say that we have some normal distribution with fixed mean and standard deviation: $f(x | \\mu, \\sigma^2)$.\n",
    "\n",
    "Now let's say we have a set of data, $x_1, x_2, x_3, ... x_N$ that we think are sampled from our normal distribution.\n",
    "\n",
    "The likelihood function tells how well our data fit the distribution; it is calculated as\n",
    "\n",
    "$$\n",
    "\\text{likelihood} = \\prod_{i=1}^N f(x_i | \\mu, \\sigma^2)\n",
    "$$\n",
    "\n",
    "*These numbers can get really small!*  It is therefore very common to calculate the \"log likelihood:\"\n",
    "\n",
    "$$\n",
    "\\text{log(likelihood)} = \\sum_{i=1}^N \\ln\\left[f(x_i | \\mu, \\sigma^2)\\right]\n",
    "$$\n"
   ]
  },
  {
   "cell_type": "code",
   "execution_count": null,
   "metadata": {
    "collapsed": true
   },
   "outputs": [],
   "source": [
    "# Gaussian v3"
   ]
  },
  {
   "cell_type": "code",
   "execution_count": null,
   "metadata": {
    "collapsed": true
   },
   "outputs": [],
   "source": [
    "# likelihood"
   ]
  },
  {
   "cell_type": "markdown",
   "metadata": {},
   "source": [
    "## Conclusion\n",
    "\n",
    "---\n",
    "\n",
    "We have seen how to define classes and instantiated objects with python.  This lesson only scrathes the surface of what is *possible*, but it also covers 60-80% of your actual use cases.\n",
    "\n",
    "For more information, check out [Chapter 4](http://anandology.com/python-practice-book/object_oriented_programming.html) in the _Python Practice Book_."
   ]
  }
 ],
 "metadata": {
  "kernelspec": {
   "display_name": "Python [default]",
   "language": "python",
   "name": "python3"
  },
  "language_info": {
   "codemirror_mode": {
    "name": "ipython",
    "version": 3
   },
   "file_extension": ".py",
   "mimetype": "text/x-python",
   "name": "python",
   "nbconvert_exporter": "python",
   "pygments_lexer": "ipython3",
   "version": "3.6.3"
  }
 },
 "nbformat": 4,
 "nbformat_minor": 2
}
