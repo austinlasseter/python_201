{
 "cells": [
  {
   "cell_type": "markdown",
   "metadata": {},
   "source": [
    "# 1.02 Functions Lab - Starter Code\n"
   ]
  },
  {
   "cell_type": "code",
   "execution_count": 1,
   "metadata": {
    "collapsed": true
   },
   "outputs": [],
   "source": [
    "\"\"\"\n",
    "If you don't have pytest library you can install from the command line using:\n",
    "pip install -U pytest\n",
    "\"\"\"\n",
    "import pytest\n",
    "import string\n",
    "import numpy as np"
   ]
  },
  {
   "cell_type": "markdown",
   "metadata": {},
   "source": [
    "In this lab, we'll use the `assert()` function. Using `assert()` allows us to check whether an assertion or condition is true.\n",
    "- If the code works properly, nothing will happen.\n",
    "- If the code doesn't work properly, an error will be thrown.\n",
    "\n",
    "The next two cells will illustrate this."
   ]
  },
  {
   "cell_type": "code",
   "execution_count": 2,
   "metadata": {
    "collapsed": true
   },
   "outputs": [],
   "source": [
    "assert(1 == 1) # Because (1 == 1) is true, nothing should happen once this cell is run."
   ]
  },
  {
   "cell_type": "code",
   "execution_count": 3,
   "metadata": {},
   "outputs": [
    {
     "ename": "AssertionError",
     "evalue": "",
     "output_type": "error",
     "traceback": [
      "\u001b[0;31m---------------------------------------------------------------------------\u001b[0m",
      "\u001b[0;31mAssertionError\u001b[0m                            Traceback (most recent call last)",
      "\u001b[0;32m<ipython-input-3-3bf49f7d6eac>\u001b[0m in \u001b[0;36m<module>\u001b[0;34m()\u001b[0m\n\u001b[0;32m----> 1\u001b[0;31m \u001b[0;32massert\u001b[0m\u001b[0;34m(\u001b[0m\u001b[0;36m1\u001b[0m \u001b[0;34m==\u001b[0m \u001b[0;36m2\u001b[0m\u001b[0;34m)\u001b[0m \u001b[0;31m# Because (1 == 2) is false, assert will cause an AssertionError to be thrown once this cell is run.\u001b[0m\u001b[0;34m\u001b[0m\u001b[0m\n\u001b[0m",
      "\u001b[0;31mAssertionError\u001b[0m: "
     ]
    }
   ],
   "source": [
    "assert(1 == 2) # Because (1 == 2) is false, assert will cause an AssertionError to be thrown once this cell is run."
   ]
  },
  {
   "cell_type": "markdown",
   "metadata": {},
   "source": [
    "#### 1) Write a function called area_triangle() that:\n",
    "- takes the height and width of a triangle and\n",
    "- returns the area."
   ]
  },
  {
   "cell_type": "code",
   "execution_count": 7,
   "metadata": {
    "collapsed": true
   },
   "outputs": [],
   "source": [
    "def area_triangle(height,width):\n",
    "    area=.5*(height*width)\n",
    "    return area"
   ]
  },
  {
   "cell_type": "code",
   "execution_count": 6,
   "metadata": {},
   "outputs": [],
   "source": [
    "assert (area_triangle(2,2) == 2)\n",
    "assert (area_triangle(5,5.5) == 13.75)"
   ]
  },
  {
   "cell_type": "markdown",
   "metadata": {},
   "source": [
    "#### 2) Write a function called string_list_fun() that:\n",
    "- takes a string as an argument and \n",
    "- returns a tuple with the string converted to a list and the count of characters."
   ]
  },
  {
   "cell_type": "code",
   "execution_count": 24,
   "metadata": {
    "collapsed": true
   },
   "outputs": [],
   "source": [
    "def string_list_fun(input_string):\n",
    "    result=[]\n",
    "    count=0\n",
    "    for element in input_string:\n",
    "        count +=1\n",
    "        result.append(element)\n",
    "    result_tuple=(result,count)\n",
    "    \n",
    "    return result_tuple"
   ]
  },
  {
   "cell_type": "code",
   "execution_count": 173,
   "metadata": {},
   "outputs": [
    {
     "data": {
      "text/plain": [
       "(['G', 'A', ' ', 'R', 'o', 'c', 'k', 's'], 8)"
      ]
     },
     "execution_count": 173,
     "metadata": {},
     "output_type": "execute_result"
    }
   ],
   "source": [
    "test = 'GA Rocks'\n",
    "string_list_fun(test)"
   ]
  },
  {
   "cell_type": "code",
   "execution_count": 26,
   "metadata": {},
   "outputs": [],
   "source": [
    "assert (string_list_fun('GA Rocks') == (['G','A',' ','R','o','c','k','s'],8))"
   ]
  },
  {
   "cell_type": "markdown",
   "metadata": {},
   "source": [
    "#### 3) Write a function called math_rocks() that:\n",
    "- takes two integers passed as strings and\n",
    "- returns the sum, difference, and product as a tuple (all values as integers)."
   ]
  },
  {
   "cell_type": "code",
   "execution_count": 32,
   "metadata": {
    "collapsed": true
   },
   "outputs": [],
   "source": [
    "def math_rocks(string1, string2):\n",
    "    destring1=float(string1)\n",
    "    destring2=float(string2)\n",
    "    result=[destring1, destring2]\n",
    "    summy=sum(result)\n",
    "    diffy=abs(destring1-destring2)\n",
    "    proddy=destring1*destring2 \n",
    "    result=(summy, diffy, proddy)\n",
    "    \n",
    "    return result"
   ]
  },
  {
   "cell_type": "code",
   "execution_count": 33,
   "metadata": {},
   "outputs": [
    {
     "data": {
      "text/plain": [
       "(5.0, 1.0, 6.0)"
      ]
     },
     "execution_count": 33,
     "metadata": {},
     "output_type": "execute_result"
    }
   ],
   "source": [
    "math_rocks('2','3')"
   ]
  },
  {
   "cell_type": "code",
   "execution_count": 34,
   "metadata": {
    "collapsed": true
   },
   "outputs": [],
   "source": [
    "assert (math_rocks('5','2') == (7,3,10))"
   ]
  },
  {
   "cell_type": "markdown",
   "metadata": {},
   "source": [
    "#### 4) Write a function called getting_crazy() that:\n",
    "- takes a list and \n",
    "- returns a tuple where the first item is the list in reverse order and the second item is just the items with an odd index"
   ]
  },
  {
   "cell_type": "code",
   "execution_count": 169,
   "metadata": {},
   "outputs": [],
   "source": [
    "def getting_crazy(input_list):\n",
    "    reverse_me=[]\n",
    "    index_me=[]\n",
    "    for item in input_list:\n",
    "        reverse_me.append(item)\n",
    "        x = input_list.index(item)\n",
    "        if x % 2 !=0:\n",
    "            index_me.append(item)\n",
    "    reverse_me.reverse()\n",
    "    result=(reverse_me,index_me)\n",
    "    return result"
   ]
  },
  {
   "cell_type": "code",
   "execution_count": 170,
   "metadata": {},
   "outputs": [
    {
     "data": {
      "text/plain": [
       "([5, 4, 3, 2, 1], [2, 4])"
      ]
     },
     "execution_count": 170,
     "metadata": {},
     "output_type": "execute_result"
    }
   ],
   "source": [
    "test=[1,2,3,4,5]\n",
    "getting_crazy(test)"
   ]
  },
  {
   "cell_type": "code",
   "execution_count": 171,
   "metadata": {},
   "outputs": [],
   "source": [
    "assert getting_crazy([1,2,3,4,5]) == ([5,4,3,2,1],[2,4])"
   ]
  },
  {
   "cell_type": "markdown",
   "metadata": {},
   "source": [
    "#### 5) Write a function called score_word() that:\n",
    "- takes a string and\n",
    "- returns the score for a word.\n",
    "\n",
    "  - Each letter's score is equal to its position in the alphabet: for example, A = 1, B = 2, and so on. \n",
    "  - The score of the word is the sum of the score of the letters: for example, the score of \"abe\" should be 8. (score(\"abe\") = score(\"a\") + score(\"b\") + score(\"e\") = 1 + 2 + 5 = 8.)\n",
    "\n",
    "##### Hint: The string library has a property [`ascii_lowercase`](https://docs.python.org/3.6/library/string.html) that can save some typing here. \n",
    "##### Bonus: Try accomplishing the above in two ways: once using the `enumerate()` function and once using indexing."
   ]
  },
  {
   "cell_type": "code",
   "execution_count": 201,
   "metadata": {
    "collapsed": true
   },
   "outputs": [],
   "source": [
    "def score_word(word):\n",
    "    alphabet = 'abcdefghijklmnopqrstuvwxyz'\n",
    "    letter_list=[]\n",
    "    scores=[]\n",
    "    for letter in word:\n",
    "        letter_list.append(letter)\n",
    "    for item in letter_list:\n",
    "        item_score = alphabet.index(item)+1\n",
    "        scores.append(item_score)\n",
    "    result=sum(scores)\n",
    "    return result"
   ]
  },
  {
   "cell_type": "code",
   "execution_count": 203,
   "metadata": {},
   "outputs": [
    {
     "data": {
      "text/plain": [
       "8"
      ]
     },
     "execution_count": 203,
     "metadata": {},
     "output_type": "execute_result"
    }
   ],
   "source": [
    "score_word('abe')"
   ]
  },
  {
   "cell_type": "code",
   "execution_count": 204,
   "metadata": {
    "collapsed": true
   },
   "outputs": [],
   "source": [
    "assert score_word(\"abe\") == 8"
   ]
  },
  {
   "cell_type": "markdown",
   "metadata": {},
   "source": [
    "#### 6) From today's lesson, we estimated the value of $\\pi$ by generating random numbers from a uniform distribution. There's code below that implements, in a function, the same thing.\n",
    "- Go through each line of `pi_estimation()` and comment. Prove to yourself (and us!) that you know what that code is doing.\n",
    "- After commenting each line, write a brief summary in the \"\"\" docstring \"\"\" in the first line inside the function."
   ]
  },
  {
   "cell_type": "code",
   "execution_count": 205,
   "metadata": {
    "collapsed": true
   },
   "outputs": [],
   "source": [
    "def pi_estimation(n):\n",
    "    \"\"\" estimate pi by summing the number of points within the area of a circle \"\"\"\n",
    "    x = np.random.uniform(0,1,n) # generate 'n' number of random proportions, and assign as x coordinates\n",
    "    y = np.random.uniform(0,1,n) # generate 'n' number of random proportions, and assign as y coordinates\n",
    "    D = x ** 2 + y ** 2 <= 1 # for each pair of x/y coordinates, assign a 0 or 1 by asserting that the sum of squares is <=1 (i.e., inside the circle)\n",
    "    return 4 * np.sum(D) / n # multiply the sum of all D's by 4 quadrants, and divide by 'n' attempts"
   ]
  },
  {
   "cell_type": "code",
   "execution_count": 209,
   "metadata": {},
   "outputs": [
    {
     "data": {
      "text/plain": [
       "3.1415333333333333"
      ]
     },
     "execution_count": 209,
     "metadata": {},
     "output_type": "execute_result"
    }
   ],
   "source": [
    "pi_estimation(1200000)"
   ]
  },
  {
   "cell_type": "markdown",
   "metadata": {},
   "source": [
    "#### 7) This function, `trailing_whitespace_removal()`, is designed to remove trailing whitespaces from strings. For example, if the last character in a string is a space, this function deletes that space.\n",
    "- Go through each line of `leading_whitespace_removal()` and comment. Prove to yourself (and us!) that you know what that code is doing.\n",
    "- After commenting each line, write a brief summary in the \"\"\" docstring \"\"\" in the first line inside the function."
   ]
  },
  {
   "cell_type": "code",
   "execution_count": 210,
   "metadata": {
    "collapsed": true
   },
   "outputs": [],
   "source": [
    "def trailing_whitespace_removal(old_list): # name the function\n",
    "    new_list = []                # create an empty list\n",
    "    for i in old_list:           # using a 'for' loop, iterate through each list element\n",
    "        while i[len(i)-1] == ' ':  # using negative indexing, assert that the last element of i is ' '\n",
    "            i = i[0:len(i)-1]      # as long as this is true, redefine i to be all elements except the last, and repeat\n",
    "        new_list.append(i)       # append the old list element to the new list\n",
    "    return new_list              # return the new list"
   ]
  },
  {
   "cell_type": "code",
   "execution_count": 211,
   "metadata": {
    "collapsed": true
   },
   "outputs": [],
   "source": [
    "assert (trailing_whitespace_removal([' Atlanta  ', '   Austin', 'Boston   ', ' Chicago', '  D.C. ', ' New York City ']) == [' Atlanta', '   Austin', 'Boston', ' Chicago', '  D.C.', ' New York City'])"
   ]
  },
  {
   "cell_type": "markdown",
   "metadata": {},
   "source": [
    "#### 8) Write a new function called `whitespace_removal()` that removes both trailing whitespaces *and* leading whitespaces. Test it on the assertion below. (Hint: You should be able to use most of the `trailing_whitespace_removal()` function above!)"
   ]
  },
  {
   "cell_type": "code",
   "execution_count": 214,
   "metadata": {
    "collapsed": true
   },
   "outputs": [],
   "source": [
    "def whitespace_removal(old_list): # name the function\n",
    "    new_list = []                # create an empty list\n",
    "    for i in old_list:           # using a 'for' loop, iterate through each list element\n",
    "        while i[len(i)-1] == ' ':  # using negative indexing, assert that the last element of i is ' '\n",
    "            i = i[0:len(i)-1]      # as long as this is true, redefine i to be all elements except the last, and repeat\n",
    "        new_list.append(i)       # append the old list element to the new list\n",
    "     \n",
    "    newer_list = []                \n",
    "    for i in new_list:           \n",
    "        while i[0] == ' ':  \n",
    "            i = i[1:]      \n",
    "        newer_list.append(i)       \n",
    "    return newer_list              "
   ]
  },
  {
   "cell_type": "code",
   "execution_count": 215,
   "metadata": {},
   "outputs": [],
   "source": [
    "assert (whitespace_removal([' Atlanta  ', '   Austin', 'Boston   ', ' Chicago', '  D.C. ', ' New York City ']) == ['Atlanta', 'Austin', 'Boston', 'Chicago', 'D.C.', 'New York City'])"
   ]
  },
  {
   "cell_type": "markdown",
   "metadata": {},
   "source": [
    "#### BONUS) The `zip()` function is commonly used in Python. Write a function called `zip_checker()` that:\n",
    "- takes a list of inputs and \n",
    "- returns \"Yes!\" if the `zip()` function will work on that list of inputs and returns \"No.\" if `zip()` does not work on that list of inputs.\n",
    "\n",
    "You might be saying, \"We haven't used the `zip()` function yet!\" You're right - there are times when you'll discover new functions, libraries, methods, etc. about which we haven't learned but which might make your work much simpler! It'll be up to you to explore things and then be confident about using these new tools.\n",
    "\n",
    "A good, general strategy for working with new functions is:\n",
    "1. Read the documentation. (The documentation for `zip()` is linked [here](https://docs.python.org/3/library/functions.html#zip).)\n",
    "2. Work out a simple example - often there'll be an example or two included in the documentation. In this case, start with two lists of two elements.\n",
    "3. Once you're comfortable with the small example, make it harder. In this case, try zipping a list of two elements with a list of three or four elements. Try zipping three lists. By doing these \"harder\" cases, it'll give you a much better sense for what works and what doesn't.\n",
    "4. When you research a new function, it might be helpful to make a note of what you learned during your quick exploration. Write out a brief summary of your findings.\n",
    "\n",
    "##### Hint: There's a subtle difference between Python 2 and Python 3 that might be good to call out. In Python 2, `zip(x,y)` would work and display the expected result. In Python 3, `zip(x,y)` returns an odd-looking zip object. In order to display the expected result in Python 3, you'll want to run `list(zip(x,y))`."
   ]
  },
  {
   "cell_type": "code",
   "execution_count": null,
   "metadata": {
    "collapsed": true
   },
   "outputs": [],
   "source": []
  },
  {
   "cell_type": "markdown",
   "metadata": {},
   "source": [
    "### Additional Resources - Potentially Helpful Functions\n",
    "\n",
    "* [Data Structures in Python](https://docs.python.org/3.6/tutorial/datastructures.html#)\n",
    "* [What's New in Python 3?](https://docs.python.org/3.6/whatsnew/3.0.html)"
   ]
  }
 ],
 "metadata": {
  "anaconda-cloud": {},
  "kernelspec": {
   "display_name": "Python 3",
   "language": "python",
   "name": "python3"
  },
  "language_info": {
   "codemirror_mode": {
    "name": "ipython",
    "version": 3
   },
   "file_extension": ".py",
   "mimetype": "text/x-python",
   "name": "python",
   "nbconvert_exporter": "python",
   "pygments_lexer": "ipython3",
   "version": "3.6.3"
  }
 },
 "nbformat": 4,
 "nbformat_minor": 1
}
